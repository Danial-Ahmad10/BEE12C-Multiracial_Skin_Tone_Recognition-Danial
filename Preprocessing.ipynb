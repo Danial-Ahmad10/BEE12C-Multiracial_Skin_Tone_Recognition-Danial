{
 "cells": [
  {
   "cell_type": "markdown",
   "metadata": {},
   "source": [
    "Preprocessing Image.\n",
    "1. Locate directories.\n",
    "2. Loop through main directory.\n",
    "3. Loop through each class.\n",
    "4. Get image path for each class."
   ]
  },
  {
   "cell_type": "code",
   "execution_count": 12,
   "metadata": {},
   "outputs": [],
   "source": [
    "import pandas as pd\n",
    "import os\n",
    "import cv2\n",
    "import numpy as np\n",
    "import matplotlib.pyplot as plt\n",
    "import tensorflow as tf"
   ]
  },
  {
   "cell_type": "markdown",
   "metadata": {},
   "source": [
    "Reading CSV into a Dataframe"
   ]
  },
  {
   "cell_type": "code",
   "execution_count": 9,
   "metadata": {},
   "outputs": [
    {
     "name": "stdout",
     "output_type": "stream",
     "text": [
      "1546\n",
      "image_ID            bottom\n",
      "pose                  side\n",
      "lighting        poorly_lit\n",
      "mask                     0\n",
      "subject_name     subject_2\n",
      "MST                      8\n",
      "Name: 1350, dtype: object\n"
     ]
    }
   ],
   "source": [
    "\n",
    "csv_path = 'D:\\\\NUST\\\\SEM 7\\\\Computer Vision\\\\Project\\\\mst-e_data\\\\mst-e_data\\\\mst-e_image_details.csv'\n",
    "df = pd.read_csv(csv_path)\n",
    "print(len(df))\n",
    "# Removing mp4 and dngs\n",
    "df = df[~df[\"image_ID\"].str.endswith((\".mp4\", \".dng\"))]\n",
    "print(df.iloc[1319])\n"
   ]
  },
  {
   "cell_type": "markdown",
   "metadata": {},
   "source": [
    "Testing on single image, resizing through keras"
   ]
  },
  {
   "cell_type": "code",
   "execution_count": null,
   "metadata": {},
   "outputs": [],
   "source": [
    "image_path = df['image_ID'] # Assuming 'image_path' is the column name for image paths\n",
    "folder_name = df['subject_name']  # Assuming 'folder_name' is the column name for folder names\n",
    "label = df['MST']  # Assuming 'label' is the column name for labels\n",
    "main_dir = 'D:\\\\NUST\\\\SEM 7\\\\Computer Vision\\\\Project\\\\mst-e_data\\\\mst-e_data'\n",
    "full_image_path = os.path.join(main_dir,folder_name.iloc[0], image_path.iloc[0])\n",
    "\n",
    "\n",
    "\n",
    "# Read the image using PIL or OpenCV\n",
    "# image = cv2.imread(full_image_path)\n",
    "# image = cv2.cvtColor(image,cv2.COLOR_BGR2RGB)\n",
    "\n",
    "img = tf.keras.utils.load_img(full_image_path)\n",
    "plt.imshow(img)\n",
    "plt.show()\n",
    "print(img.size)\n",
    "\n",
    "image_array = tf.keras.preprocessing.image.img_to_array(img) #Image to array\n",
    "new_img = tf.image.resize(image_array, (256, 256)) #Resizing to Array\n",
    "resized_img = tf.keras.preprocessing.image.array_to_img(new_img) #Resized array back to image\n",
    "plt.imshow(resized_img)\n",
    "\n",
    "# plt.imshow(image)\n"
   ]
  },
  {
   "cell_type": "markdown",
   "metadata": {},
   "source": [
    "Testing on entire dataset using opencv"
   ]
  },
  {
   "cell_type": "code",
   "execution_count": 5,
   "metadata": {},
   "outputs": [
    {
     "name": "stderr",
     "output_type": "stream",
     "text": [
      "Processing Images:  89%|████████▊ | 1319/1490 [04:22<00:34,  5.03it/s]\n"
     ]
    },
    {
     "ename": "error",
     "evalue": "OpenCV(4.8.0) D:\\a\\opencv-python\\opencv-python\\opencv\\modules\\imgproc\\src\\resize.cpp:4062: error: (-215:Assertion failed) !ssize.empty() in function 'cv::resize'\n",
     "output_type": "error",
     "traceback": [
      "\u001b[1;31m---------------------------------------------------------------------------\u001b[0m",
      "\u001b[1;31merror\u001b[0m                                     Traceback (most recent call last)",
      "Cell \u001b[1;32mIn[5], line 35\u001b[0m\n\u001b[0;32m     32\u001b[0m csv_path \u001b[38;5;241m=\u001b[39m \u001b[38;5;124m\"\u001b[39m\u001b[38;5;124mD:\u001b[39m\u001b[38;5;130;01m\\\\\u001b[39;00m\u001b[38;5;124mNUST\u001b[39m\u001b[38;5;130;01m\\\\\u001b[39;00m\u001b[38;5;124mSEM 7\u001b[39m\u001b[38;5;130;01m\\\\\u001b[39;00m\u001b[38;5;124mComputer Vision\u001b[39m\u001b[38;5;130;01m\\\\\u001b[39;00m\u001b[38;5;124mProject\u001b[39m\u001b[38;5;130;01m\\\\\u001b[39;00m\u001b[38;5;124mmst-e_data\u001b[39m\u001b[38;5;130;01m\\\\\u001b[39;00m\u001b[38;5;124mmst-e_data\u001b[39m\u001b[38;5;130;01m\\\\\u001b[39;00m\u001b[38;5;124mmst-e_image_details.csv\u001b[39m\u001b[38;5;124m\"\u001b[39m  \u001b[38;5;66;03m# Change this to the path of your CSV file\u001b[39;00m\n\u001b[0;32m     34\u001b[0m \u001b[38;5;66;03m# Resize and save images\u001b[39;00m\n\u001b[1;32m---> 35\u001b[0m resize_and_save(input_folder, output_folder, df)\n",
      "Cell \u001b[1;32mIn[5], line 23\u001b[0m, in \u001b[0;36mresize_and_save\u001b[1;34m(input_folder, output_folder, df, target_size)\u001b[0m\n\u001b[0;32m     21\u001b[0m \u001b[38;5;66;03m# Read and resize the image\u001b[39;00m\n\u001b[0;32m     22\u001b[0m img \u001b[38;5;241m=\u001b[39m cv2\u001b[38;5;241m.\u001b[39mimread(input_path)\n\u001b[1;32m---> 23\u001b[0m img \u001b[38;5;241m=\u001b[39m cv2\u001b[38;5;241m.\u001b[39mresize(img, target_size)\n\u001b[0;32m     25\u001b[0m \u001b[38;5;66;03m# Save the resized image to the output folder\u001b[39;00m\n\u001b[0;32m     26\u001b[0m cv2\u001b[38;5;241m.\u001b[39mimwrite(output_path, img)\n",
      "\u001b[1;31merror\u001b[0m: OpenCV(4.8.0) D:\\a\\opencv-python\\opencv-python\\opencv\\modules\\imgproc\\src\\resize.cpp:4062: error: (-215:Assertion failed) !ssize.empty() in function 'cv::resize'\n"
     ]
    }
   ],
   "source": [
    "import os\n",
    "import cv2\n",
    "import pandas as pd\n",
    "from tqdm import tqdm\n",
    "\n",
    "# Function to resize images and save to a destination folder\n",
    "def resize_and_save(input_folder, output_folder, df, target_size=(224, 224)):\n",
    "    # Create output folder if it doesn't exist\n",
    "    os.makedirs(output_folder, exist_ok=True)\n",
    "\n",
    "    for _, row in tqdm(df.iterrows(), total=len(df), desc=\"Processing Images\"):\n",
    "        # Extract information from CSV\n",
    "        folder_name = row['subject_name']\n",
    "        image_name = row['image_ID']\n",
    "        label = row['MST']\n",
    "\n",
    "        # Build paths\n",
    "        input_path = os.path.join(input_folder, folder_name, image_name)\n",
    "        output_path = os.path.join(output_folder, f\"{label}_{image_name}\")\n",
    "\n",
    "        # Read and resize the image\n",
    "        img = cv2.imread(input_path)\n",
    "        img = cv2.resize(img, target_size)\n",
    "\n",
    "        # Save the resized image to the output folder\n",
    "        cv2.imwrite(output_path, img)\n",
    "\n",
    "if __name__ == \"__main__\":\n",
    "    # Set paths\n",
    "    input_folder = \"D:\\\\NUST\\\\SEM 7\\\\Computer Vision\\\\Project\\\\mst-e_data\\\\mst-e_data\"  # Change this to the path of your dataset\n",
    "    output_folder = \"D:\\\\NUST\\\\SEM 7\\\\Computer Vision\\\\Project\\\\mst-e_data\\\\mst_resized\"   # Change this to the desired output path\n",
    "    csv_path = \"D:\\\\NUST\\\\SEM 7\\\\Computer Vision\\\\Project\\\\mst-e_data\\\\mst-e_data\\\\mst-e_image_details.csv\"  # Change this to the path of your CSV file\n",
    "\n",
    "    # Resize and save images\n",
    "    resize_and_save(input_folder, output_folder, df)"
   ]
  },
  {
   "cell_type": "markdown",
   "metadata": {},
   "source": [
    "Delete Later\n"
   ]
  },
  {
   "cell_type": "markdown",
   "metadata": {},
   "source": [
    "Resizing entire dataset using keras"
   ]
  },
  {
   "cell_type": "code",
   "execution_count": null,
   "metadata": {},
   "outputs": [
    {
     "ename": "FileNotFoundError",
     "evalue": "[Errno 2] No such file or directory: 'D:\\\\NUST\\\\SEM 7\\\\Computer Vision\\\\Project\\\\mst-e_data\\\\mst-e_data\\\\subject_2\\\\bottom'",
     "output_type": "error",
     "traceback": [
      "\u001b[1;31m---------------------------------------------------------------------------\u001b[0m",
      "\u001b[1;31mFileNotFoundError\u001b[0m                         Traceback (most recent call last)",
      "Cell \u001b[1;32mIn[4], line 11\u001b[0m\n\u001b[0;32m      8\u001b[0m main_dir \u001b[38;5;241m=\u001b[39m \u001b[38;5;124m'\u001b[39m\u001b[38;5;124mD:\u001b[39m\u001b[38;5;130;01m\\\\\u001b[39;00m\u001b[38;5;124mNUST\u001b[39m\u001b[38;5;130;01m\\\\\u001b[39;00m\u001b[38;5;124mSEM 7\u001b[39m\u001b[38;5;130;01m\\\\\u001b[39;00m\u001b[38;5;124mComputer Vision\u001b[39m\u001b[38;5;130;01m\\\\\u001b[39;00m\u001b[38;5;124mProject\u001b[39m\u001b[38;5;130;01m\\\\\u001b[39;00m\u001b[38;5;124mmst-e_data\u001b[39m\u001b[38;5;130;01m\\\\\u001b[39;00m\u001b[38;5;124mmst-e_data\u001b[39m\u001b[38;5;124m'\u001b[39m\n\u001b[0;32m      9\u001b[0m full_image_path \u001b[38;5;241m=\u001b[39m os\u001b[38;5;241m.\u001b[39mpath\u001b[38;5;241m.\u001b[39mjoin(main_dir, folder_name, image_path)\n\u001b[1;32m---> 11\u001b[0m img \u001b[38;5;241m=\u001b[39m tf\u001b[38;5;241m.\u001b[39mkeras\u001b[38;5;241m.\u001b[39mutils\u001b[38;5;241m.\u001b[39mload_img(full_image_path)\n\u001b[0;32m     12\u001b[0m image_array \u001b[38;5;241m=\u001b[39m tf\u001b[38;5;241m.\u001b[39mkeras\u001b[38;5;241m.\u001b[39mpreprocessing\u001b[38;5;241m.\u001b[39mimage\u001b[38;5;241m.\u001b[39mimg_to_array(img) \u001b[38;5;66;03m#Image to array\u001b[39;00m\n\u001b[0;32m     13\u001b[0m new_img \u001b[38;5;241m=\u001b[39m tf\u001b[38;5;241m.\u001b[39mimage\u001b[38;5;241m.\u001b[39mresize(image_array, (\u001b[38;5;241m256\u001b[39m, \u001b[38;5;241m256\u001b[39m)) \u001b[38;5;66;03m#Resizing to Array\u001b[39;00m\n",
      "File \u001b[1;32md:\\Anaconda\\Lib\\site-packages\\keras\\src\\utils\\image_utils.py:422\u001b[0m, in \u001b[0;36mload_img\u001b[1;34m(path, grayscale, color_mode, target_size, interpolation, keep_aspect_ratio)\u001b[0m\n\u001b[0;32m    420\u001b[0m     \u001b[38;5;28;01mif\u001b[39;00m \u001b[38;5;28misinstance\u001b[39m(path, pathlib\u001b[38;5;241m.\u001b[39mPath):\n\u001b[0;32m    421\u001b[0m         path \u001b[38;5;241m=\u001b[39m \u001b[38;5;28mstr\u001b[39m(path\u001b[38;5;241m.\u001b[39mresolve())\n\u001b[1;32m--> 422\u001b[0m     \u001b[38;5;28;01mwith\u001b[39;00m \u001b[38;5;28mopen\u001b[39m(path, \u001b[38;5;124m\"\u001b[39m\u001b[38;5;124mrb\u001b[39m\u001b[38;5;124m\"\u001b[39m) \u001b[38;5;28;01mas\u001b[39;00m f:\n\u001b[0;32m    423\u001b[0m         img \u001b[38;5;241m=\u001b[39m pil_image\u001b[38;5;241m.\u001b[39mopen(io\u001b[38;5;241m.\u001b[39mBytesIO(f\u001b[38;5;241m.\u001b[39mread()))\n\u001b[0;32m    424\u001b[0m \u001b[38;5;28;01melse\u001b[39;00m:\n",
      "\u001b[1;31mFileNotFoundError\u001b[0m: [Errno 2] No such file or directory: 'D:\\\\NUST\\\\SEM 7\\\\Computer Vision\\\\Project\\\\mst-e_data\\\\mst-e_data\\\\subject_2\\\\bottom'"
     ]
    }
   ],
   "source": [
    "data = []\n",
    "labels = []\n",
    "\n",
    "for index, row in df.iterrows():\n",
    "    image_path = row['image_ID']  # Assuming 'image_path' is the column name for image paths\n",
    "    folder_name = row['subject_name']  # Assuming 'folder_name' is the column name for folder names\n",
    "    label = row['MST']  # Assuming 'label' is the column name for labels\n",
    "    main_dir = 'D:\\\\NUST\\\\SEM 7\\\\Computer Vision\\\\Project\\\\mst-e_data\\\\mst-e_data'\n",
    "    full_image_path = os.path.join(main_dir, folder_name, image_path)\n",
    "    \n",
    "    img = tf.keras.utils.load_img(full_image_path)\n",
    "    image_array = tf.keras.preprocessing.image.img_to_array(img) #Image to array\n",
    "    new_img = tf.image.resize(image_array, (256, 256)) #Resizing to Array\n",
    "    resized_img = tf.keras.preprocessing.image.array_to_img(new_img) #Resized array back to image\n",
    "\n",
    "    data.append(new_img)\n",
    "    labels.append(label)\n",
    "\n",
    "data = np.array(data)\n",
    "labels = np.array(labels)\n",
    "print((data).shape)\n",
    "print(labels)\n"
   ]
  }
 ],
 "metadata": {
  "kernelspec": {
   "display_name": "base",
   "language": "python",
   "name": "python3"
  },
  "language_info": {
   "codemirror_mode": {
    "name": "ipython",
    "version": 3
   },
   "file_extension": ".py",
   "mimetype": "text/x-python",
   "name": "python",
   "nbconvert_exporter": "python",
   "pygments_lexer": "ipython3",
   "version": "3.11.3"
  }
 },
 "nbformat": 4,
 "nbformat_minor": 2
}
